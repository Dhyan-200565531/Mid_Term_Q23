{
 "cells": [
  {
   "cell_type": "markdown",
   "id": "c664d91f",
   "metadata": {},
   "source": [
    "# Question 23\n",
    "\n",
    "Develop a recursive function tough() that takes two nonnegative integer arguments and outputs a pattern as shown below. \n",
    "\n",
    "Hint: The first argument represents the a of the pattern, where the second argument -- always a pattern of 2 indicates the number *s in the longest line of *s in the pattern"
   ]
  },
  {
   "cell_type": "code",
   "execution_count": 6,
   "id": "29ccb264",
   "metadata": {},
   "outputs": [
    {
     "name": "stdout",
     "output_type": "stream",
     "text": [
      "*\n"
     ]
    }
   ],
   "source": [
    "def tough(a, b):\n",
    "    if b == 1:\n",
    "      \n",
    "        print(' ' * a + '*')\n",
    "    else:\n",
    "        \n",
    "        # Print the top half recursively.\n",
    "        tough(a + b // 2, b // 2)\n",
    "        \n",
    "        print(' ' * a + '*' * b)\n",
    "        # Print the bottom half recursively.\n",
    "        tough(a + b // 2, b // 2)\n",
    " \n",
    "# Test the function with different parameters\n",
    "tough(0, 1)  # a 0, b 1"
   ]
  },
  {
   "cell_type": "code",
   "execution_count": 7,
   "id": "e540817d",
   "metadata": {},
   "outputs": [
    {
     "name": "stdout",
     "output_type": "stream",
     "text": [
      " *\n",
      "**\n",
      " *\n"
     ]
    }
   ],
   "source": [
    "tough(0, 2)  # a 0, b 2"
   ]
  },
  {
   "cell_type": "code",
   "execution_count": 8,
   "id": "b752a99b",
   "metadata": {},
   "outputs": [
    {
     "name": "stdout",
     "output_type": "stream",
     "text": [
      "   *\n",
      "  **\n",
      "   *\n",
      "****\n",
      "   *\n",
      "  **\n",
      "   *\n"
     ]
    }
   ],
   "source": [
    "tough(0, 4)  # a 0, b 4"
   ]
  }
 ],
 "metadata": {
  "kernelspec": {
   "display_name": "Python 3 (ipykernel)",
   "language": "python",
   "name": "python3"
  },
  "language_info": {
   "codemirror_mode": {
    "name": "ipython",
    "version": 3
   },
   "file_extension": ".py",
   "mimetype": "text/x-python",
   "name": "python",
   "nbconvert_exporter": "python",
   "pygments_lexer": "ipython3",
   "version": "3.11.5"
  }
 },
 "nbformat": 4,
 "nbformat_minor": 5
}
